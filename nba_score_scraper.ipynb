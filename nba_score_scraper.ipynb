{
 "cells": [
  {
   "cell_type": "code",
   "execution_count": null,
   "metadata": {},
   "outputs": [],
   "source": [
    "import pandas as pd\n",
    "import requests\n",
    "from bs4 import BeautifulSoup"
   ]
  },
  {
   "cell_type": "code",
   "execution_count": null,
   "metadata": {},
   "outputs": [],
   "source": [
    "# create empty dataframe\n",
    "df = pd.DataFrame(columns=['Date', 'Home Team', 'Away Team', 'Home Score', 'Away Score', 'Winner', 'Bubble'])\n",
    "\n",
    "# list of dates\n",
    "dates = pd.date_range(start='2013-10-05', end='2020-10-11')\n",
    "\n",
    "# date NBA started playing in bubble\n",
    "start_bubble = pd.to_datetime('2020-07-22')"
   ]
  },
  {
   "cell_type": "code",
   "execution_count": null,
   "metadata": {
    "pycharm": {
     "is_executing": true
    }
   },
   "outputs": [],
   "source": [
    "# loop through dates and scrape data from games\n",
    "for date in dates:\n",
    "    # fetch page for given date\n",
    "    resp = requests.get('https://www.nba.com/games?date={}'.format(date))\n",
    "    soup = BeautifulSoup(resp.content)\n",
    "    # store data from all games on date in list\n",
    "    games = soup.find_all('a', class_='flex-1 px-2 pt-5 h-full block hover:no-underline relative text-sm pt-5 pb-4 mb-1 px-2')\n",
    "    # check if any games were played\n",
    "    if len(games) == 0:\n",
    "        continue\n",
    "    else:\n",
    "        # loop through games and gather teams and score data\n",
    "        for game in games:\n",
    "            d = {}\n",
    "            teams = [g.get_text() for g in game.find_all('span', class_='relative')]\n",
    "            scores = [s.get_text() for s in game.find_all('p', class_='h9 relative inline-block leading-none')]\n",
    "            d['Date'] = date\n",
    "            try:\n",
    "                d['Home Team'] = teams[1]\n",
    "                d['Away Team'] = teams[0]\n",
    "                d['Home Score'] = scores[1]\n",
    "                d['Away Score'] = scores[0]\n",
    "                if date >= start_bubble:\n",
    "                    d['Bubble'] = 'Y'\n",
    "                else:\n",
    "                    d['Bubble'] = 'N'\n",
    "                if scores[1] > scores[0]:\n",
    "                    d['Winner'] = 'A'\n",
    "                else:\n",
    "                    d['Winner'] = 'H'\n",
    "                df = df.append(d, ignore_index=True)\n",
    "            except:\n",
    "                pass"
   ]
  },
  {
   "cell_type": "code",
   "execution_count": null,
   "metadata": {},
   "outputs": [],
   "source": [
    " df.to_csv('nba_stats.csv')"
   ]
  },
  {
   "cell_type": "code",
   "execution_count": null,
   "metadata": {},
   "outputs": [],
   "source": []
  },
  {
   "cell_type": "code",
   "execution_count": null,
   "metadata": {},
   "outputs": [],
   "source": []
  },
  {
   "cell_type": "code",
   "execution_count": null,
   "metadata": {},
   "outputs": [],
   "source": []
  },
  {
   "cell_type": "code",
   "execution_count": null,
   "metadata": {},
   "outputs": [],
   "source": []
  }
 ],
 "metadata": {
  "kernelspec": {
   "display_name": "Python 3",
   "language": "python",
   "name": "python3"
  },
  "language_info": {
   "codemirror_mode": {
    "name": "ipython",
    "version": 3
   },
   "file_extension": ".py",
   "mimetype": "text/x-python",
   "name": "python",
   "nbconvert_exporter": "python",
   "pygments_lexer": "ipython3",
   "version": "3.8.5"
  }
 },
 "nbformat": 4,
 "nbformat_minor": 1
}
